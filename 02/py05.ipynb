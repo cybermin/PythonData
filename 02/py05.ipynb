{
 "cells": [
  {
   "cell_type": "markdown",
   "metadata": {},
   "source": [
    "## 조건문"
   ]
  },
  {
   "cell_type": "code",
   "execution_count": 6,
   "metadata": {},
   "outputs": [],
   "source": [
    "import random as r\n",
    "\n",
    "lst = list(r.sample(range(1,100), 10))"
   ]
  },
  {
   "cell_type": "code",
   "execution_count": 7,
   "metadata": {},
   "outputs": [
    {
     "name": "stdout",
     "output_type": "stream",
     "text": [
      "[76, 83, 58, 15, 74, 67, 36, 98, 40, 95]\n"
     ]
    }
   ],
   "source": [
    "print(lst)"
   ]
  },
  {
   "cell_type": "code",
   "execution_count": 10,
   "metadata": {},
   "outputs": [
    {
     "name": "stdout",
     "output_type": "stream",
     "text": [
      "짝수 : [76, 58, 74, 36, 98, 40]\n",
      "홀수 : [83, 15, 67, 95]\n"
     ]
    }
   ],
   "source": [
    "even = []\n",
    "odd = []\n",
    "for item in lst :\n",
    "    if item % 2 == 0 :\n",
    "        even.append(item)\n",
    "    else :\n",
    "        odd.append(item)\n",
    "        \n",
    "print('짝수 :',even)\n",
    "print('홀수 :', odd)\n"
   ]
  },
  {
   "cell_type": "code",
   "execution_count": 11,
   "metadata": {},
   "outputs": [
    {
     "name": "stdout",
     "output_type": "stream",
     "text": [
      "['Pass', 'Pass', 'Fail', 'Fail', 'Pass', '재시험', 'Fail', 'Pass', 'Fail', 'Pass']\n"
     ]
    }
   ],
   "source": [
    "result = []\n",
    "\n",
    "for item in lst :\n",
    "    if item >= 70 : result.append('Pass')#\n",
    "    elif item >= 60 : result.append('재시험')\n",
    "    else : result.append('Fail')\n",
    "\n",
    "print(result)"
   ]
  },
  {
   "cell_type": "code",
   "execution_count": 12,
   "metadata": {},
   "outputs": [
    {
     "name": "stdout",
     "output_type": "stream",
     "text": [
      "Pass : 5\n",
      "재시험 : 1\n",
      "Fail : 4\n"
     ]
    }
   ],
   "source": [
    "print('Pass :' , result.count('Pass'))\n",
    "print('재시험 :' , result.count('재시험'))\n",
    "print('Fail :' , result.count('Fail'))\n"
   ]
  },
  {
   "cell_type": "markdown",
   "metadata": {},
   "source": [
    "### 반복문과 if문을 이용한 리스트 추출 "
   ]
  },
  {
   "cell_type": "code",
   "execution_count": 14,
   "metadata": {},
   "outputs": [
    {
     "name": "stdout",
     "output_type": "stream",
     "text": [
      "[76, 83, 58, 15, 74, 67, 36, 98, 40, 95]\n"
     ]
    }
   ],
   "source": [
    "plist = [item for item in lst if item >=70]\n",
    "print(plist)"
   ]
  },
  {
   "cell_type": "markdown",
   "metadata": {},
   "source": [
    "### 반복문"
   ]
  },
  {
   "cell_type": "code",
   "execution_count": 30,
   "metadata": {},
   "outputs": [
    {
     "name": "stdout",
     "output_type": "stream",
     "text": [
      "1\n",
      "3\n"
     ]
    }
   ],
   "source": [
    "i = 0 \n",
    "while i < 5 :\n",
    "    i = i + 1\n",
    "    if i % 2 == 0 : continue \n",
    "    if i >= 4 : break \n",
    "    print(i)\n",
    "    "
   ]
  },
  {
   "cell_type": "markdown",
   "metadata": {},
   "source": [
    "### 리스트를 결합해서 딕션너리 만들기 "
   ]
  },
  {
   "cell_type": "code",
   "execution_count": 15,
   "metadata": {},
   "outputs": [
    {
     "name": "stdout",
     "output_type": "stream",
     "text": [
      "[76, 83, 58, 15, 74, 67, 36, 98, 40, 95]\n"
     ]
    }
   ],
   "source": [
    "print(lst)"
   ]
  },
  {
   "cell_type": "code",
   "execution_count": 16,
   "metadata": {},
   "outputs": [
    {
     "name": "stdout",
     "output_type": "stream",
     "text": [
      "['Pass', 'Pass', 'Fail', 'Fail', 'Pass', '재시험', 'Fail', 'Pass', 'Fail', 'Pass']\n"
     ]
    }
   ],
   "source": [
    "print(result)"
   ]
  },
  {
   "cell_type": "code",
   "execution_count": 17,
   "metadata": {},
   "outputs": [
    {
     "name": "stdout",
     "output_type": "stream",
     "text": [
      "{76: 'Pass', 83: 'Pass', 58: 'Fail', 15: 'Fail', 74: 'Pass', 67: '재시험', 36: 'Fail', 98: 'Pass', 40: 'Fail', 95: 'Pass'}\n"
     ]
    }
   ],
   "source": [
    "jumsu = dict(zip(lst, result))\n",
    "print(jumsu)"
   ]
  },
  {
   "cell_type": "code",
   "execution_count": 18,
   "metadata": {},
   "outputs": [
    {
     "name": "stdout",
     "output_type": "stream",
     "text": [
      "재시험\n"
     ]
    }
   ],
   "source": [
    "print(jumsu[67])"
   ]
  },
  {
   "cell_type": "code",
   "execution_count": 19,
   "metadata": {},
   "outputs": [
    {
     "name": "stdout",
     "output_type": "stream",
     "text": [
      "98\n"
     ]
    }
   ],
   "source": [
    "print(max(jumsu.keys()))"
   ]
  },
  {
   "cell_type": "code",
   "execution_count": 24,
   "metadata": {},
   "outputs": [
    {
     "name": "stdout",
     "output_type": "stream",
     "text": [
      "Pass\n"
     ]
    }
   ],
   "source": [
    "tpl = max(zip(jumsu.keys(), jumsu.values()))[1]\n",
    "print(tpl)"
   ]
  },
  {
   "cell_type": "code",
   "execution_count": null,
   "metadata": {},
   "outputs": [],
   "source": []
  }
 ],
 "metadata": {
  "kernelspec": {
   "display_name": "Python 3",
   "language": "python",
   "name": "python3"
  },
  "language_info": {
   "codemirror_mode": {
    "name": "ipython",
    "version": 3
   },
   "file_extension": ".py",
   "mimetype": "text/x-python",
   "name": "python",
   "nbconvert_exporter": "python",
   "pygments_lexer": "ipython3",
   "version": "3.7.3"
  }
 },
 "nbformat": 4,
 "nbformat_minor": 2
}
