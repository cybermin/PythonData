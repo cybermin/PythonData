{
 "cells": [
  {
   "cell_type": "markdown",
   "metadata": {},
   "source": [
    "## 실습문제"
   ]
  },
  {
   "cell_type": "code",
   "execution_count": 1,
   "metadata": {},
   "outputs": [],
   "source": [
    "stock = ['삼성전자', '남영비비안', 'SK하이닉스', '후성', '플리토','메지온','삼륭물산','이아이디','삼성전기','헬릭스미스']\n",
    "price = [47450, 9170, 79900 , 10400 , 37850 , 103300, 9330, 422 , 97700 , 218700]\n"
   ]
  },
  {
   "cell_type": "code",
   "execution_count": 2,
   "metadata": {},
   "outputs": [
    {
     "name": "stdout",
     "output_type": "stream",
     "text": [
      "플리토의 현재가 : 37850\n"
     ]
    }
   ],
   "source": [
    "#플리토의 위치 찾기\n",
    "idx = stock.index('플리토')\n",
    "print('플리토의 현재가 :', price[idx])"
   ]
  },
  {
   "cell_type": "code",
   "execution_count": 3,
   "metadata": {},
   "outputs": [
    {
     "name": "stdout",
     "output_type": "stream",
     "text": [
      "218700\n"
     ]
    }
   ],
   "source": [
    "#현재가가 최대금액인 종목찾기\n",
    "maxPrice = max(price)\n",
    "print(maxPrice)"
   ]
  },
  {
   "cell_type": "code",
   "execution_count": 4,
   "metadata": {},
   "outputs": [
    {
     "name": "stdout",
     "output_type": "stream",
     "text": [
      "최대 현재가 :  218700 ( 헬릭스미스 )\n"
     ]
    }
   ],
   "source": [
    "idx = price.index(maxPrice)\n",
    "print('최대 현재가 : ', maxPrice, '(', stock[idx], ')')"
   ]
  },
  {
   "cell_type": "markdown",
   "metadata": {},
   "source": [
    "#### 딕션너리로 해결"
   ]
  },
  {
   "cell_type": "code",
   "execution_count": 5,
   "metadata": {},
   "outputs": [
    {
     "name": "stdout",
     "output_type": "stream",
     "text": [
      "{'삼성전자': 47450, '남영비비안': 9170, 'SK하이닉스': 79900, '후성': 10400, '플리토': 37850, '메지온': 103300, '삼륭물산': 9330, '이아이디': 422, '삼성전기': 97700, '헬릭스미스': 218700}\n"
     ]
    }
   ],
   "source": [
    "stock_price = dict(zip(stock, price))\n",
    "print(stock_price)"
   ]
  },
  {
   "cell_type": "code",
   "execution_count": 6,
   "metadata": {},
   "outputs": [
    {
     "name": "stdout",
     "output_type": "stream",
     "text": [
      "플리토 현재가 : 37850\n"
     ]
    }
   ],
   "source": [
    "print('플리토 현재가 :' , stock_price['플리토'])"
   ]
  },
  {
   "cell_type": "code",
   "execution_count": 7,
   "metadata": {},
   "outputs": [
    {
     "name": "stdout",
     "output_type": "stream",
     "text": [
      "최대 현재가 : (218700, '헬릭스미스')\n"
     ]
    }
   ],
   "source": [
    "print('최대 현재가 :' , max(zip(stock_price.values(), stock_price.keys())))"
   ]
  },
  {
   "cell_type": "code",
   "execution_count": null,
   "metadata": {},
   "outputs": [],
   "source": []
  }
 ],
 "metadata": {
  "kernelspec": {
   "display_name": "Python 3",
   "language": "python",
   "name": "python3"
  },
  "language_info": {
   "codemirror_mode": {
    "name": "ipython",
    "version": 3
   },
   "file_extension": ".py",
   "mimetype": "text/x-python",
   "name": "python",
   "nbconvert_exporter": "python",
   "pygments_lexer": "ipython3",
   "version": "3.7.3"
  }
 },
 "nbformat": 4,
 "nbformat_minor": 2
}
