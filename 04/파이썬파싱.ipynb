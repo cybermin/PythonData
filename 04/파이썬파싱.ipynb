{
 "cells": [
  {
   "cell_type": "code",
   "execution_count": 83,
   "metadata": {},
   "outputs": [],
   "source": [
    "from bs4 import BeautifulSoup\n",
    "import requests as req "
   ]
  },
  {
   "cell_type": "code",
   "execution_count": 84,
   "metadata": {},
   "outputs": [
    {
     "name": "stdout",
     "output_type": "stream",
     "text": [
      "<?xml version=\"1.0\" encoding=\"utf-8\" standalone=\"yes\"?><boxOfficeResult><boxofficeType>일별 박스오피스</boxofficeType><showRange>20190724~20190724</showRange><dailyBoxOfficeList><dailyBoxOffice><rnum>1</rnum><rank>1</rank><rankInten>21</rankInten><rankOldAndNew>OLD</rankOldAndNew><movieCd>20182490</movieCd><movieNm>나랏말싸미</movieNm><openDt>2019-07-24</openDt><salesAmt>1187258450</salesAmt><salesShare>30.6</salesShare><salesInten>1184103450</salesInten><salesChange>37531</salesChange><salesAcc>1345928450</salesAcc><audiCnt>151262</audiCnt><audiInten>150631</audiInten><audiChange>23871.8</audiChange><audiAcc>171350</audiAcc><scrnCnt>1211</scrnCnt><showCnt>6598</showCnt></dailyBoxOffice><dailyBoxOffice><rnum>2</rnum><rank>2</rank><rankInten>-1</rankInten><rankOldAndNew>OLD</rankOldAndNew><movieCd>20175771</movieCd><movieNm>라이온 킹</movieNm><openDt>2019-07-17</openDt><salesAmt>1079496330</salesAmt><salesShare>27.8</salesShare><salesInten>-254893870</salesInten><salesChange>-19.1</salesChange><salesAcc>24457994160</salesAcc><audiCnt>129123</audiCnt><audiInten>-29891</audiInten><audiChange>-18.8</audiChange><audiAcc>2733584</audiAcc><scrnCnt>1150</scrnCnt><showCnt>4976</showCnt></dailyBoxOffice><dailyBoxOffice><rnum>3</rnum><rank>3</rank><rankInten>-1</rankInten><rankOldAndNew>OLD</rankOldAndNew><movieCd>20183867</movieCd><movieNm>알라딘</movieNm><openDt>2019-05-23</openDt><salesAmt>519767420</salesAmt><salesShare>13.4</salesShare><salesInten>-76276350</salesInten><salesChange>-12.8</salesChange><salesAcc>95128533159</salesAcc><audiCnt>64372</audiCnt><audiInten>-9945</audiInten><audiChange>-13.4</audiChange><audiAcc>11157279</audiAcc><scrnCnt>700</scrnCnt><showCnt>2268</showCnt></dailyBoxOffice><dailyBoxOffice><rnum>4</rnum><rank>4</rank><rankInten>12</rankInten><rankOldAndNew>OLD</rankOldAndNew><movieCd>20192725</movieCd><movieNm>명탐정 코난: 감청의 권</movieNm><openDt>2019-07-24</openDt><salesAmt>415329480</salesAmt><salesShare>10.7</salesShare><salesInten>405686480</salesInten><salesChange>4207.1</salesChange><salesAcc>451857280</salesAcc><audiCnt>54935</audiCnt><audiInten>53864</audiInten><audiChange>5029.3</audiChange><audiAcc>58712</audiAcc><scrnCnt>591</scrnCnt><showCnt>1506</showCnt></dailyBoxOffice><dailyBoxOffice><rnum>5</rnum><rank>5</rank><rankInten>-2</rankInten><rankOldAndNew>OLD</rankOldAndNew><movieCd>20196309</movieCd><movieNm>스파이더맨: 파 프롬 홈</movieNm><openDt>2019-07-02</openDt><salesAmt>289683820</salesAmt><salesShare>7.5</salesShare><salesInten>-119638900</salesInten><salesChange>-29.2</salesChange><salesAcc>65766145270</salesAcc><audiCnt>35859</audiCnt><audiInten>-14969</audiInten><audiChange>-29.5</audiChange><audiAcc>7639051</audiAcc><scrnCnt>586</scrnCnt><showCnt>1775</showCnt></dailyBoxOffice><dailyBoxOffice><rnum>6</rnum><rank>6</rank><rankInten>0</rankInten><rankOldAndNew>NEW</rankOldAndNew><movieCd>20190002</movieCd><movieNm>롱 샷</movieNm><openDt>2019-07-24</openDt><salesAmt>135980460</salesAmt><salesShare>3.5</salesShare><salesInten>135980460</salesInten><salesChange>100</salesChange><salesAcc>480885180</salesAcc><audiCnt>16316</audiCnt><audiInten>16316</audiInten><audiChange>100</audiChange><audiAcc>54721</audiAcc><scrnCnt>443</scrnCnt><showCnt>1235</showCnt></dailyBoxOffice><dailyBoxOffice><rnum>7</rnum><rank>7</rank><rankInten>0</rankInten><rankOldAndNew>NEW</rankOldAndNew><movieCd>20184621</movieCd><movieNm>엑시트</movieNm><openDt>2019-07-31</openDt><salesAmt>47666000</salesAmt><salesShare>1.2</salesShare><salesInten>47666000</salesInten><salesChange>100</salesChange><salesAcc>99528000</salesAcc><audiCnt>5733</audiCnt><audiInten>5733</audiInten><audiChange>100</audiChange><audiAcc>12317</audiAcc><scrnCnt>23</scrnCnt><showCnt>23</showCnt></dailyBoxOffice><dailyBoxOffice><rnum>8</rnum><rank>8</rank><rankInten>-4</rankInten><rankOldAndNew>OLD</rankOldAndNew><movieCd>20184047</movieCd><movieNm>토이 스토리 4</movieNm><openDt>2019-06-20</openDt><salesAmt>37835530</salesAmt><salesShare>1.0</salesShare><salesInten>-63718910</salesInten><salesChange>-62.7</salesChange><salesAcc>28087038080</salesAcc><audiCnt>4980</audiCnt><audiInten>-7868</audiInten><audiChange>-61.2</audiChange><audiAcc>3317363</audiAcc><scrnCnt>130</scrnCnt><showCnt>182</showCnt></dailyBoxOffice><dailyBoxOffice><rnum>9</rnum><rank>9</rank><rankInten>49</rankInten><rankOldAndNew>OLD</rankOldAndNew><movieCd>20191845</movieCd><movieNm>난폭한 기록</movieNm><openDt>2019-07-11</openDt><salesAmt>19272000</salesAmt><salesShare>0.5</salesShare><salesInten>18657000</salesInten><salesChange>3033.7</salesChange><salesAcc>71820090</salesAcc><audiCnt>3847</audiCnt><audiInten>3769</audiInten><audiChange>4832.1</audiChange><audiAcc>10030</audiAcc><scrnCnt>19</scrnCnt><showCnt>23</showCnt></dailyBoxOffice><dailyBoxOffice><rnum>10</rnum><rank>10</rank><rankInten>-5</rankInten><rankOldAndNew>OLD</rankOldAndNew><movieCd>20183782</movieCd><movieNm>기생충</movieNm><openDt>2019-05-30</openDt><salesAmt>23193780</salesAmt><salesShare>0.6</salesShare><salesInten>-46077620</salesInten><salesChange>-66.5</salesChange><salesAcc>85320089825</salesAcc><audiCnt>2865</audiCnt><audiInten>-5810</audiInten><audiChange>-67</audiChange><audiAcc>10019290</audiAcc><scrnCnt>78</scrnCnt><showCnt>118</showCnt></dailyBoxOffice></dailyBoxOfficeList></boxOfficeResult>\n"
     ]
    }
   ],
   "source": [
    "url = 'http://www.kobis.or.kr/kobisopenapi/webservice/rest/boxoffice/searchDailyBoxOfficeList.xml?key=430156241533f1d058c603178cc3ca0e&targetDt='\n",
    "url = url + '20190724'\n",
    "xml = req.get(url).text\n",
    "print(xml)"
   ]
  },
  {
   "cell_type": "code",
   "execution_count": 85,
   "metadata": {},
   "outputs": [
    {
     "name": "stdout",
     "output_type": "stream",
     "text": [
      "나랏말싸미\n",
      "라이온 킹\n",
      "알라딘\n",
      "명탐정 코난: 감청의 권\n",
      "스파이더맨: 파 프롬 홈\n",
      "롱 샷\n",
      "엑시트\n",
      "토이 스토리 4\n",
      "난폭한 기록\n",
      "기생충\n"
     ]
    }
   ],
   "source": [
    "soup = BeautifulSoup(xml, 'html.parser')\n",
    "dailyBoxOffice = soup.find_all('dailyBoxOffice'.lower())\n",
    "\n",
    "for item in dailyBoxOffice :\n",
    "    print(item.find('movienm').text)"
   ]
  },
  {
   "cell_type": "code",
   "execution_count": 86,
   "metadata": {},
   "outputs": [
    {
     "name": "stdout",
     "output_type": "stream",
     "text": [
      "[ 1 위] 나랏말싸미\n",
      "[ 2 위] 라이온 킹\n",
      "[ 3 위] 알라딘\n",
      "[ 4 위] 명탐정 코난: 감청의 권\n",
      "[ 5 위] 스파이더맨: 파 프롬 홈\n",
      "[ 6 위] 롱 샷\n",
      "[ 7 위] 엑시트\n",
      "[ 8 위] 토이 스토리 4\n",
      "[ 9 위] 난폭한 기록\n",
      "[ 10 위] 기생충\n"
     ]
    }
   ],
   "source": [
    "for item in dailyBoxOffice :\n",
    "    print('[', item.rank.string,'위]', item.movienm.string)"
   ]
  },
  {
   "cell_type": "code",
   "execution_count": 87,
   "metadata": {},
   "outputs": [],
   "source": [
    "def movieRank(d) :\n",
    "    #open API 주소\n",
    "    url = 'http://www.kobis.or.kr/kobisopenapi/webservice/rest/boxoffice/searchDailyBoxOfficeList.xml?key=430156241533f1d058c603178cc3ca0e&targetDt='\n",
    "    url = url + d\n",
    "    \n",
    "    #xml데이터 가져오기 \n",
    "    xml = req.get(url).text\n",
    "    \n",
    "    #xml데이터 파싱 \n",
    "    soup = BeautifulSoup(xml, 'html.parser')\n",
    "    \n",
    "    #dailyBoxOffice 태그는 모두 찾아줌\n",
    "    dailyBoxOffice = soup.find_all('dailyBoxOffice'.lower())\n",
    "    \n",
    "    #dailyBoxOffice 내의 자식 노드 중 필요한 정보를 가져옴\n",
    "    for item in dailyBoxOffice :\n",
    "        print('[', item.rank.string,'위]', item.movienm.string)"
   ]
  },
  {
   "cell_type": "code",
   "execution_count": 89,
   "metadata": {},
   "outputs": [
    {
     "name": "stdout",
     "output_type": "stream",
     "text": [
      "[ 1 위] 라이온 킹\n",
      "[ 2 위] 알라딘\n",
      "[ 3 위] 스파이더맨: 파 프롬 홈\n",
      "[ 4 위] 토이 스토리 4\n",
      "[ 5 위] 기생충\n",
      "[ 6 위] 롱 샷\n",
      "[ 7 위] 사일런스\n",
      "[ 8 위] 극장판 엉덩이 탐정: 화려한 사건 수첩\n",
      "[ 9 위] 진범\n",
      "[ 10 위] 기방도령\n"
     ]
    }
   ],
   "source": [
    "movieRank('20190720')"
   ]
  },
  {
   "cell_type": "code",
   "execution_count": 90,
   "metadata": {},
   "outputs": [
    {
     "name": "stdout",
     "output_type": "stream",
     "text": [
      "[ 1 위] 인크레더블 2\n",
      "[ 2 위] 앤트맨과 와스프\n",
      "[ 3 위] 마녀\n",
      "[ 4 위] 스카이스크래퍼\n",
      "[ 5 위] 독전: 익스텐디드 컷\n",
      "[ 6 위] 호텔 아르테미스\n",
      "[ 7 위] 미드나잇 선\n",
      "[ 8 위] 속닥속닥\n",
      "[ 9 위] 신은 죽지 않았다 3: 어둠 속의 빛\n",
      "[ 10 위] 이별의 아침에 약속의 꽃을 장식하자\n"
     ]
    }
   ],
   "source": [
    "movieRank('20180720')"
   ]
  },
  {
   "cell_type": "markdown",
   "metadata": {},
   "source": [
    "### HTML 크롤링"
   ]
  },
  {
   "cell_type": "code",
   "execution_count": 80,
   "metadata": {},
   "outputs": [
    {
     "name": "stdout",
     "output_type": "stream",
     "text": [
      "라이온 킹\n",
      "알라딘\n",
      "스파이더맨: 파 프롬 홈\n",
      "사일런스\n",
      "기생충\n",
      "진범\n",
      "비스트\n",
      "변신\n",
      "토이 스토리 4\n",
      "나랏말싸미\n",
      "기방도령\n",
      "미드소마\n",
      "사자\n",
      "롱 샷\n",
      "존 윅 3: 파라벨룸\n",
      "롱 리브 더 킹: 목포 영웅\n",
      "타짜: 원 아이드 잭\n",
      "인턴형사 오견식\n",
      "광대들: 풍문조작단\n",
      "맨 인 블랙: 인터내셔널\n",
      "킹스맨: 퍼스트 에이전트\n",
      "어벤져스: 엔드게임\n",
      "봉오동 전투\n",
      "엑시트\n",
      "극장판 엉덩이 탐정: 화려한 사건 수첩\n",
      "관전남\n",
      "레드슈즈\n",
      "발광하는 현대사\n",
      "주전장\n",
      "난폭한 기록\n",
      "명탐정 코난: 감청의 권\n",
      "천로역정: 천국을 찾아서\n",
      "이케아 옷장에서 시작된 특별난 여행\n",
      "돈 워리\n",
      "굿바이 썸머\n",
      "분노의 질주: 홉스&쇼\n",
      "그것: 두 번째 이야기\n",
      "액츠 오브 바이올런스\n",
      "극장판 샤이닝스타:새로운 루나퀸의 탄생!\n",
      "마담 프루스트의 비밀정원\n",
      "알리타: 배틀 엔젤\n",
      "악인전\n",
      "라이온 킹\n",
      "알라딘 2\n",
      "수영장으로 간 남자들\n",
      "김군\n",
      "러브 유어셀프 인 서울\n",
      "나이트메어 시네마\n",
      "고잉 투 브라질\n",
      "인간, 공간, 시간 그리고 인간\n"
     ]
    }
   ],
   "source": [
    "from urllib.request import Request, urlopen\n",
    "\n",
    "req = Request('http://movie.naver.com/movie/sdb/rank/rmovie.nhn')\n",
    "res = urlopen(req)\n",
    "html = res.read().decode('cp949')\n",
    "\n",
    "bs = BeautifulSoup(html, 'html.parser')\n",
    "tags = bs.findAll('div', attrs={'class': 'tit3'})\n",
    "\n",
    "for tag in tags :\n",
    "    # 검색된 태그에서 a 태그에서 텍스트를 가져옴\n",
    "    print(tag.a.text)"
   ]
  },
  {
   "cell_type": "code",
   "execution_count": null,
   "metadata": {
    "collapsed": true
   },
   "outputs": [],
   "source": []
  }
 ],
 "metadata": {
  "kernelspec": {
   "display_name": "Python [conda env:Anaconda3]",
   "language": "python",
   "name": "conda-env-Anaconda3-py"
  },
  "language_info": {
   "codemirror_mode": {
    "name": "ipython",
    "version": 3
   },
   "file_extension": ".py",
   "mimetype": "text/x-python",
   "name": "python",
   "nbconvert_exporter": "python",
   "pygments_lexer": "ipython3",
   "version": "3.5.6"
  }
 },
 "nbformat": 4,
 "nbformat_minor": 2
}
