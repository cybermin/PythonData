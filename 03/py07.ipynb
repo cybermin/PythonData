{
 "cells": [
  {
   "cell_type": "markdown",
   "metadata": {},
   "source": [
    "### 함수"
   ]
  },
  {
   "cell_type": "code",
   "execution_count": 1,
   "metadata": {},
   "outputs": [],
   "source": [
    "def myfun() :\n",
    "    print('안녕')"
   ]
  },
  {
   "cell_type": "code",
   "execution_count": 2,
   "metadata": {},
   "outputs": [
    {
     "name": "stdout",
     "output_type": "stream",
     "text": [
      "안녕\n"
     ]
    }
   ],
   "source": [
    "myfun()"
   ]
  },
  {
   "cell_type": "code",
   "execution_count": 9,
   "metadata": {},
   "outputs": [],
   "source": [
    "def myfun2(n) :\n",
    "    for i in range(n) :\n",
    "        print(i, ': 안녕')"
   ]
  },
  {
   "cell_type": "code",
   "execution_count": 10,
   "metadata": {},
   "outputs": [
    {
     "name": "stdout",
     "output_type": "stream",
     "text": [
      "0 : 안녕\n",
      "1 : 안녕\n",
      "2 : 안녕\n"
     ]
    }
   ],
   "source": [
    "myfun2(3)"
   ]
  },
  {
   "cell_type": "code",
   "execution_count": 11,
   "metadata": {},
   "outputs": [
    {
     "name": "stdout",
     "output_type": "stream",
     "text": [
      "0 : 안녕\n",
      "1 : 안녕\n",
      "2 : 안녕\n",
      "3 : 안녕\n",
      "4 : 안녕\n"
     ]
    }
   ],
   "source": [
    "myfun2(5)"
   ]
  },
  {
   "cell_type": "code",
   "execution_count": 12,
   "metadata": {},
   "outputs": [],
   "source": [
    "def myfun3(lst) :\n",
    "    for i in range(len(lst)) :\n",
    "        print(lst[i])"
   ]
  },
  {
   "cell_type": "code",
   "execution_count": 14,
   "metadata": {},
   "outputs": [
    {
     "name": "stdout",
     "output_type": "stream",
     "text": [
      "a\n",
      "b\n",
      "c\n"
     ]
    }
   ],
   "source": [
    "lst1 = ['a', 'b', 'c']\n",
    "myfun3(lst1)"
   ]
  },
  {
   "cell_type": "code",
   "execution_count": 16,
   "metadata": {},
   "outputs": [
    {
     "name": "stdout",
     "output_type": "stream",
     "text": [
      "43\n",
      "20\n",
      "19\n",
      "8\n",
      "38\n",
      "2\n"
     ]
    }
   ],
   "source": [
    "import random as r\n",
    "lst2 = r.sample(list(range(46)), 6)\n",
    "myfun3(lst2)"
   ]
  },
  {
   "cell_type": "code",
   "execution_count": 18,
   "metadata": {},
   "outputs": [],
   "source": [
    "def myfun4(x, y, op) :\n",
    "    if op == '+' : ans = x + y \n",
    "    elif op == '-' : ans = x - y\n",
    "    elif op == 'x' : ans = x * y\n",
    "    elif op == '/' : ans = x / y\n",
    "    \n",
    "    print(x, op, y, '=', ans)"
   ]
  },
  {
   "cell_type": "code",
   "execution_count": 19,
   "metadata": {},
   "outputs": [
    {
     "name": "stdout",
     "output_type": "stream",
     "text": [
      "10 - 20 = -10\n"
     ]
    }
   ],
   "source": [
    "myfun4(10, 20,'-')"
   ]
  },
  {
   "cell_type": "code",
   "execution_count": 20,
   "metadata": {},
   "outputs": [
    {
     "name": "stdout",
     "output_type": "stream",
     "text": [
      "10 x 20 = 200\n"
     ]
    }
   ],
   "source": [
    "myfun4(10, 20,'x')"
   ]
  },
  {
   "cell_type": "code",
   "execution_count": 21,
   "metadata": {},
   "outputs": [
    {
     "ename": "UnboundLocalError",
     "evalue": "local variable 'ans' referenced before assignment",
     "output_type": "error",
     "traceback": [
      "\u001b[1;31m---------------------------------------------------------------------------\u001b[0m",
      "\u001b[1;31mUnboundLocalError\u001b[0m                         Traceback (most recent call last)",
      "\u001b[1;32m<ipython-input-21-0a9aaa05283f>\u001b[0m in \u001b[0;36m<module>\u001b[1;34m\u001b[0m\n\u001b[1;32m----> 1\u001b[1;33m \u001b[0mmyfun4\u001b[0m\u001b[1;33m(\u001b[0m\u001b[1;36m10\u001b[0m\u001b[1;33m,\u001b[0m \u001b[1;36m20\u001b[0m\u001b[1;33m,\u001b[0m\u001b[1;34m'*'\u001b[0m\u001b[1;33m)\u001b[0m\u001b[1;33m\u001b[0m\u001b[1;33m\u001b[0m\u001b[0m\n\u001b[0m",
      "\u001b[1;32m<ipython-input-18-a1f1017202fd>\u001b[0m in \u001b[0;36mmyfun4\u001b[1;34m(x, y, op)\u001b[0m\n\u001b[0;32m      5\u001b[0m     \u001b[1;32melif\u001b[0m \u001b[0mop\u001b[0m \u001b[1;33m==\u001b[0m \u001b[1;34m'/'\u001b[0m \u001b[1;33m:\u001b[0m \u001b[0mans\u001b[0m \u001b[1;33m=\u001b[0m \u001b[0mx\u001b[0m \u001b[1;33m/\u001b[0m \u001b[0my\u001b[0m\u001b[1;33m\u001b[0m\u001b[1;33m\u001b[0m\u001b[0m\n\u001b[0;32m      6\u001b[0m \u001b[1;33m\u001b[0m\u001b[0m\n\u001b[1;32m----> 7\u001b[1;33m     \u001b[0mprint\u001b[0m\u001b[1;33m(\u001b[0m\u001b[0mx\u001b[0m\u001b[1;33m,\u001b[0m \u001b[0mop\u001b[0m\u001b[1;33m,\u001b[0m \u001b[0my\u001b[0m\u001b[1;33m,\u001b[0m \u001b[1;34m'='\u001b[0m\u001b[1;33m,\u001b[0m \u001b[0mans\u001b[0m\u001b[1;33m)\u001b[0m\u001b[1;33m\u001b[0m\u001b[1;33m\u001b[0m\u001b[0m\n\u001b[0m",
      "\u001b[1;31mUnboundLocalError\u001b[0m: local variable 'ans' referenced before assignment"
     ]
    }
   ],
   "source": [
    "myfun4(10, 20,'*')"
   ]
  },
  {
   "cell_type": "code",
   "execution_count": 22,
   "metadata": {},
   "outputs": [],
   "source": [
    "def myfun41(x, y, op) :\n",
    "    if op in ['+', '-', 'x', '/'] : \n",
    "#   if op=='+' or op == '-' or op == 'x' or op =='/' :\n",
    "        if op == '+' : ans = x + y \n",
    "        elif op == '-' : ans = x - y\n",
    "        elif op == 'x' : ans = x * y\n",
    "        elif op == '/' : ans = x / y\n",
    "\n",
    "        print(x, op, y, '=', ans)\n",
    "    else :\n",
    "        print('연산자 오류')"
   ]
  },
  {
   "cell_type": "code",
   "execution_count": 23,
   "metadata": {},
   "outputs": [
    {
     "name": "stdout",
     "output_type": "stream",
     "text": [
      "10 x 20 = 200\n"
     ]
    }
   ],
   "source": [
    "myfun41(10, 20,'x')"
   ]
  },
  {
   "cell_type": "code",
   "execution_count": 24,
   "metadata": {},
   "outputs": [
    {
     "name": "stdout",
     "output_type": "stream",
     "text": [
      "연산자 오류\n"
     ]
    }
   ],
   "source": [
    "myfun41(10, 20,'*')"
   ]
  },
  {
   "cell_type": "code",
   "execution_count": 25,
   "metadata": {},
   "outputs": [],
   "source": [
    "def myfun42(x, y, op) :\n",
    "    if op not in ['+', '-', 'x', '/'] : \n",
    "        print('연산자 오류')\n",
    "        return\n",
    "    \n",
    "    if op == '+' : ans = x + y \n",
    "    elif op == '-' : ans = x - y\n",
    "    elif op == 'x' : ans = x * y\n",
    "    elif op == '/' : ans = x / y\n",
    "\n",
    "    print(x, op, y, '=', ans)"
   ]
  },
  {
   "cell_type": "code",
   "execution_count": 26,
   "metadata": {},
   "outputs": [
    {
     "name": "stdout",
     "output_type": "stream",
     "text": [
      "10 x 20 = 200\n"
     ]
    }
   ],
   "source": [
    "myfun42(10, 20,'x')"
   ]
  },
  {
   "cell_type": "code",
   "execution_count": 27,
   "metadata": {},
   "outputs": [
    {
     "name": "stdout",
     "output_type": "stream",
     "text": [
      "연산자 오류\n"
     ]
    }
   ],
   "source": [
    "myfun42(10, 20,'*')"
   ]
  },
  {
   "cell_type": "code",
   "execution_count": 28,
   "metadata": {},
   "outputs": [],
   "source": [
    "import random as r\n",
    "\n",
    "def myfun5(n) :\n",
    "    lst = r.sample(list(range(100)), n)\n",
    "    \n",
    "    return lst"
   ]
  },
  {
   "cell_type": "code",
   "execution_count": 30,
   "metadata": {},
   "outputs": [
    {
     "name": "stdout",
     "output_type": "stream",
     "text": [
      "36\n",
      "13\n",
      "59\n",
      "79\n",
      "41\n",
      "25\n",
      "30\n",
      "27\n",
      "94\n",
      "93\n"
     ]
    }
   ],
   "source": [
    "lst1 = myfun5(10)\n",
    "myfun3(lst1)"
   ]
  },
  {
   "cell_type": "code",
   "execution_count": 31,
   "metadata": {},
   "outputs": [
    {
     "name": "stdout",
     "output_type": "stream",
     "text": [
      "11\n",
      "50\n",
      "5\n",
      "9\n",
      "57\n"
     ]
    }
   ],
   "source": [
    "lst2= myfun5(5)\n",
    "myfun3(lst2)"
   ]
  },
  {
   "cell_type": "code",
   "execution_count": 33,
   "metadata": {},
   "outputs": [
    {
     "name": "stdout",
     "output_type": "stream",
     "text": [
      "89\n",
      "35\n",
      "28\n"
     ]
    }
   ],
   "source": [
    "myfun3(myfun5(3))"
   ]
  },
  {
   "cell_type": "code",
   "execution_count": 34,
   "metadata": {},
   "outputs": [],
   "source": [
    "def myfun51(n) :\n",
    "    lst = r.sample(list(range(100)), n)\n",
    "    \n",
    "    return lst, lst * 2"
   ]
  },
  {
   "cell_type": "code",
   "execution_count": 35,
   "metadata": {},
   "outputs": [
    {
     "name": "stdout",
     "output_type": "stream",
     "text": [
      "[37, 84, 60]\n",
      "[37, 84, 60, 37, 84, 60]\n"
     ]
    }
   ],
   "source": [
    "l1, l2 = myfun51(3)\n",
    "print(l1)\n",
    "print(l2)"
   ]
  },
  {
   "cell_type": "code",
   "execution_count": 36,
   "metadata": {},
   "outputs": [],
   "source": [
    "def rcsv(filename) :\n",
    "    lst1 = []\n",
    "    lst2 = []\n",
    "\n",
    "    f = open(filename, 'r')\n",
    "    data = f.readlines()\n",
    "    f.close()\n",
    "    \n",
    "    for line in data :\n",
    "        line = line.replace('\\n', '') \n",
    "        item = line.split(',')\n",
    "        \n",
    "        lst1.append(item[0])\n",
    "        lst2.append(item[1])\n",
    "        \n",
    "    return lst1, lst2\n"
   ]
  },
  {
   "cell_type": "code",
   "execution_count": 37,
   "metadata": {},
   "outputs": [
    {
     "name": "stdout",
     "output_type": "stream",
     "text": [
      "['종목명', '삼성전자', '남영비비안', 'SK하이닉스', '후성', '플리토', '메지온', '삼륭물산', '이아이디', '삼성전기', '헬릭스미스']\n",
      "['현재가', '47450', '9170', '79900', '10400', '37850', '103300', '9330', '422', '97700', '218700']\n"
     ]
    }
   ],
   "source": [
    "lst1 , lst2 = rcsv('./data/증권정보.csv')\n",
    "print(lst1)\n",
    "print(lst2)"
   ]
  },
  {
   "cell_type": "code",
   "execution_count": 38,
   "metadata": {},
   "outputs": [
    {
     "name": "stdout",
     "output_type": "stream",
     "text": [
      "['서울', '부산', '대구', '인천', '광주', '대전', '울산', '세종', '경기', '강원', '충북', '충남', '전북', '전남', '경북', '경남', '제주']\n",
      "['20', '26', '24', '24', '25', '22', '26', '23', '24', '23', '26', '22', '24', '23', '28', '29', '26']\n"
     ]
    }
   ],
   "source": [
    "lst1 , lst2 = rcsv('./data/도별미세먼지.csv')\n",
    "print(lst1)\n",
    "print(lst2)"
   ]
  },
  {
   "cell_type": "code",
   "execution_count": 39,
   "metadata": {},
   "outputs": [
    {
     "name": "stdout",
     "output_type": "stream",
     "text": [
      "['김수연', '이지연']\n",
      "['89', '80']\n"
     ]
    }
   ],
   "source": [
    "lst1 , lst2 = rcsv('./data/jumsu.txt')\n",
    "print(lst1)\n",
    "print(lst2)"
   ]
  },
  {
   "cell_type": "code",
   "execution_count": 46,
   "metadata": {},
   "outputs": [],
   "source": [
    "def rcsv2(filename) :\n",
    "    lst = []\n",
    "    \n",
    "    f = open(filename, 'r')\n",
    "    data = f.readlines()\n",
    "    f.close() \n",
    "    \n",
    "    for line in data :\n",
    "        line = line.replace('\\n', '') \n",
    "        item = line.split(',')\n",
    "        \n",
    "        lst.append(item)\n",
    "        \n",
    "    return lst\n"
   ]
  },
  {
   "cell_type": "code",
   "execution_count": 47,
   "metadata": {},
   "outputs": [
    {
     "name": "stdout",
     "output_type": "stream",
     "text": [
      "[['20'], ['26'], ['24'], ['24'], ['25'], ['22'], ['26'], ['23'], ['24'], ['23'], ['26'], ['22'], ['24'], ['23'], ['28'], ['29'], ['26']]\n"
     ]
    }
   ],
   "source": [
    "lst = rcsv2('./data/dust201809.txt')\n",
    "print(lst)"
   ]
  },
  {
   "cell_type": "code",
   "execution_count": 50,
   "metadata": {},
   "outputs": [
    {
     "name": "stdout",
     "output_type": "stream",
     "text": [
      "[['김수연', '89', '90', '179'], ['이지연', '80', '96', '176']]\n"
     ]
    }
   ],
   "source": [
    "lst = rcsv2('./data/jumsu.txt')\n",
    "print(lst) "
   ]
  },
  {
   "cell_type": "code",
   "execution_count": 51,
   "metadata": {},
   "outputs": [
    {
     "data": {
      "text/plain": [
       "list"
      ]
     },
     "execution_count": 51,
     "metadata": {},
     "output_type": "execute_result"
    }
   ],
   "source": [
    "type(lst)"
   ]
  },
  {
   "cell_type": "code",
   "execution_count": 53,
   "metadata": {},
   "outputs": [
    {
     "name": "stdout",
     "output_type": "stream",
     "text": [
      "[['삼성전자', '47450', '250'], ['남영비비안', '9170', '2110'], ['SK하이닉스', '79900', '1500'], ['후성', '10400', '-450'], ['플리토', '37850', '2500'], ['메지온', '103300', '8500'], ['삼륭물산', '9330', '1760'], ['이아이디', '422', '-16'], ['삼성전기', '97700', '800'], ['헬릭스미스', '218700', '11700']]\n"
     ]
    }
   ],
   "source": [
    "lst = rcsv2('./data/증권정보.csv')\n",
    "del lst[0]\n",
    "print(lst) "
   ]
  },
  {
   "cell_type": "code",
   "execution_count": null,
   "metadata": {},
   "outputs": [],
   "source": []
  }
 ],
 "metadata": {
  "kernelspec": {
   "display_name": "Python 3",
   "language": "python",
   "name": "python3"
  },
  "language_info": {
   "codemirror_mode": {
    "name": "ipython",
    "version": 3
   },
   "file_extension": ".py",
   "mimetype": "text/x-python",
   "name": "python",
   "nbconvert_exporter": "python",
   "pygments_lexer": "ipython3",
   "version": "3.7.3"
  }
 },
 "nbformat": 4,
 "nbformat_minor": 2
}
