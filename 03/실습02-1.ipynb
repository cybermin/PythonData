{
 "cells": [
  {
   "cell_type": "markdown",
   "metadata": {},
   "source": [
    "## 실습문제"
   ]
  },
  {
   "cell_type": "code",
   "execution_count": 1,
   "metadata": {},
   "outputs": [],
   "source": [
    "stock = ['삼성전자', '남영비비안', 'SK하이닉스', '후성', '플리토','메지온','삼륭물산','이아이디','삼성전기','헬릭스미스']\n",
    "price = [47450, 9170, 79900 , 10400 , 37850 , 103300, 9330, 422 , 97700 , 218700]\n"
   ]
  },
  {
   "cell_type": "code",
   "execution_count": 2,
   "metadata": {},
   "outputs": [
    {
     "name": "stdout",
     "output_type": "stream",
     "text": [
      "플리토의 현재가 : 37850\n"
     ]
    }
   ],
   "source": [
    "#플리토의 위치 찾기\n",
    "idx = stock.index('플리토')\n",
    "print('플리토의 현재가 :', price[idx])"
   ]
  },
  {
   "cell_type": "code",
   "execution_count": 3,
   "metadata": {},
   "outputs": [
    {
     "name": "stdout",
     "output_type": "stream",
     "text": [
      "218700\n"
     ]
    }
   ],
   "source": [
    "#현재가가 최대금액인 종목찾기\n",
    "maxPrice = max(price)\n",
    "print(maxPrice)"
   ]
  },
  {
   "cell_type": "code",
   "execution_count": 4,
   "metadata": {},
   "outputs": [
    {
     "name": "stdout",
     "output_type": "stream",
     "text": [
      "최대 현재가 :  218700 ( 헬릭스미스 )\n"
     ]
    }
   ],
   "source": [
    "idx = price.index(maxPrice)\n",
    "print('최대 현재가 : ', maxPrice, '(', stock[idx], ')')"
   ]
  },
  {
   "cell_type": "markdown",
   "metadata": {},
   "source": [
    "#### 딕션너리로 해결"
   ]
  },
  {
   "cell_type": "code",
   "execution_count": 5,
   "metadata": {},
   "outputs": [
    {
     "name": "stdout",
     "output_type": "stream",
     "text": [
      "{'삼성전자': 47450, '남영비비안': 9170, 'SK하이닉스': 79900, '후성': 10400, '플리토': 37850, '메지온': 103300, '삼륭물산': 9330, '이아이디': 422, '삼성전기': 97700, '헬릭스미스': 218700}\n"
     ]
    }
   ],
   "source": [
    "stock_price = dict(zip(stock, price))\n",
    "print(stock_price)"
   ]
  },
  {
   "cell_type": "code",
   "execution_count": 6,
   "metadata": {},
   "outputs": [
    {
     "name": "stdout",
     "output_type": "stream",
     "text": [
      "플리토 현재가 : 37850\n"
     ]
    }
   ],
   "source": [
    "print('플리토 현재가 :' , stock_price['플리토'])"
   ]
  },
  {
   "cell_type": "code",
   "execution_count": 7,
   "metadata": {},
   "outputs": [
    {
     "name": "stdout",
     "output_type": "stream",
     "text": [
      "최대 현재가 : (218700, '헬릭스미스')\n"
     ]
    }
   ],
   "source": [
    "print('최대 현재가 :' , max(zip(stock_price.values(), stock_price.keys())))"
   ]
  },
  {
   "cell_type": "markdown",
   "metadata": {},
   "source": [
    "### CSV파일 읽어서 처리"
   ]
  },
  {
   "cell_type": "code",
   "execution_count": 1,
   "metadata": {},
   "outputs": [
    {
     "name": "stdout",
     "output_type": "stream",
     "text": [
      "['종목명,현재가,전일대비\\n', '삼성전자,47450,250\\n', '남영비비안,9170,2110\\n', 'SK하이닉스,79900,1500\\n', '후성,10400,-450\\n', '플리토,37850,2500\\n', '메지온,103300,8500\\n', '삼륭물산,9330,1760\\n', '이아이디,422,-16\\n', '삼성전기,97700,800\\n', '헬릭스미스,218700,11700\\n']\n"
     ]
    }
   ],
   "source": [
    "f = open('./data/증권정보.csv','r')\n",
    "data = f.readlines() \n",
    "f.close()\n",
    "\n",
    "print(data)"
   ]
  },
  {
   "cell_type": "code",
   "execution_count": 3,
   "metadata": {},
   "outputs": [
    {
     "name": "stdout",
     "output_type": "stream",
     "text": [
      "['삼성전자', '남영비비안', 'SK하이닉스', '후성', '플리토', '메지온', '삼륭물산', '이아이디', '삼성전기', '헬릭스미스']\n",
      "[47450, 9170, 79900, 10400, 37850, 103300, 9330, 422, 97700, 218700]\n",
      "[250, 2110, 1500, -450, 2500, 8500, 1760, -16, 800, 11700]\n"
     ]
    }
   ],
   "source": [
    "xlst = []\n",
    "y1 = []\n",
    "y2 = []\n",
    "\n",
    "for line in data :\n",
    "    if line[:3] == '종목명' : continue\n",
    "    line = line.replace('\\n','')\n",
    "    item = line.split(',')\n",
    "    \n",
    "    xlst.append(item[0])\n",
    "    y1.append(int(item[1]))\n",
    "    y2.append(int(item[2]))\n",
    "\n",
    "print(xlst)\n",
    "print(y1)\n",
    "print(y2)"
   ]
  },
  {
   "cell_type": "code",
   "execution_count": 18,
   "metadata": {},
   "outputs": [
    {
     "data": {
      "image/png": "[encoded data removed]",
      "text/plain": [
       "<Figure size 432x288 with 1 Axes>"
      ]
     },
     "metadata": {
      "needs_background": "light"
     },
     "output_type": "display_data"
    }
   ],
   "source": [
    "import matplotlib.pyplot as plt\n",
    "#한글 폰트 사용\n",
    "from matplotlib import font_manager, rc\n",
    "font_name = font_manager.FontProperties(fname=\"c:/Windows/Fonts/malgun.ttf\").get_name()\n",
    "rc('font', family=font_name)\n",
    "\n",
    "x = list(range(len(y1)))\n",
    "plt.plot(y1, c='r', label='현재가', ls='--', lw =2 , marker='*')\n",
    "plt.plot(y2, c='b', label='전일대비',ls='-', lw =2 , marker='o')\n",
    "plt.xticks(x, xlst, rotation=90)\n",
    "plt.title('주식현황',fontsize=20)\n",
    "plt.xlabel('종목명')\n",
    "plt.ylabel('현재가')\n",
    "plt.legend()\n",
    "plt.ylim([0, 300000])\n",
    "plt.show()"
   ]
  },
  {
   "cell_type": "code",
   "execution_count": null,
   "metadata": {},
   "outputs": [],
   "source": []
  }
 ],
 "metadata": {
  "kernelspec": {
   "display_name": "Python 3",
   "language": "python",
   "name": "python3"
  },
  "language_info": {
   "codemirror_mode": {
    "name": "ipython",
    "version": 3
   },
   "file_extension": ".py",
   "mimetype": "text/x-python",
   "name": "python",
   "nbconvert_exporter": "python",
   "pygments_lexer": "ipython3",
   "version": "3.7.3"
  }
 },
 "nbformat": 4,
 "nbformat_minor": 2
}
