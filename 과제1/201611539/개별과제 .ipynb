{
 "cells": [
  {
   "cell_type": "markdown",
   "metadata": {},
   "source": [
    "## 201511539 하성진\n",
    "\n",
    "#### 부산지역의 2018년도 월별 상대습도"
   ]
  },
  {
   "cell_type": "code",
   "execution_count": 12,
   "metadata": {},
   "outputs": [
    {
     "name": "stdout",
     "output_type": "stream",
     "text": [
      "['2018-01-01,45,,,\\n', '2018-02-01,42,,,\\n', '2018-03-01,63,,,\\n', '2018-04-01,63,,,\\n', '2018-05-01,73,,,\\n', '2018-06-01,75,,,\\n', '2018-07-01,78,,,\\n', '2018-08-01,75,,,\\n', '2018-09-01,76,,,\\n', '2018-10-01,62,,,\\n', '2018-11-01,57,,,\\n', '2018-12-01,49,,,\\n']\n"
     ]
    }
   ],
   "source": [
    "f = open('부산평균상대습도.csv','r')\n",
    "data = f.readlines()\n",
    "f.close()\n",
    "\n",
    "\n",
    "del data[0]\n",
    "\n",
    "print(data)"
   ]
  },
  {
   "cell_type": "code",
   "execution_count": 26,
   "metadata": {},
   "outputs": [],
   "source": [
    "date =[]\n",
    "humid=[]\n",
    "\n",
    "\n",
    "for i in data:\n",
    "    line = i.replace('\\n','')\n",
    "    item = i.split(',')\n",
    "    date.append(item[0])\n",
    "    humid.append(int(item[1]))"
   ]
  },
  {
   "cell_type": "code",
   "execution_count": 21,
   "metadata": {},
   "outputs": [
    {
     "name": "stdout",
     "output_type": "stream",
     "text": [
      "['45', '42', '63', '63', '73', '75', '78', '75', '76', '62', '57', '49']\n",
      "['2018-01-01', '2018-02-01', '2018-03-01', '2018-04-01', '2018-05-01', '2018-06-01', '2018-07-01', '2018-08-01', '2018-09-01', '2018-10-01', '2018-11-01', '2018-12-01']\n",
      "01\n",
      "02\n",
      "03\n",
      "04\n",
      "05\n",
      "06\n",
      "07\n",
      "08\n",
      "09\n",
      "10\n",
      "11\n",
      "12\n",
      "['01', '02', '03', '04', '05', '06', '07', '08', '09', '10', '11', '12']\n"
     ]
    }
   ],
   "source": [
    "print(humid)\n",
    "print(date)\n",
    "date2=[]\n",
    "\n",
    "for i in date:\n",
    "    i = i[5:7]\n",
    "    print(i)\n",
    "    date2.append(i)\n",
    "\n",
    "print(date2)"
   ]
  },
  {
   "cell_type": "code",
   "execution_count": 34,
   "metadata": {},
   "outputs": [
    {
     "name": "stdout",
     "output_type": "stream",
     "text": [
      "['01월', '02월', '03월', '04월', '05월', '06월', '07월', '08월', '09월', '10월', '11월', '12월']\n"
     ]
    }
   ],
   "source": [
    "date3=[]\n",
    "for i in date2:\n",
    "    item = str(i) + '월'\n",
    "    date3.append(item)\n",
    "    \n",
    "print(date3)"
   ]
  },
  {
   "cell_type": "code",
   "execution_count": 43,
   "metadata": {},
   "outputs": [
    {
     "data": {
      "image/png": "[encoded data removed]",
      "text/plain": [
       "<Figure size 432x288 with 1 Axes>"
      ]
     },
     "metadata": {
      "needs_background": "light"
     },
     "output_type": "display_data"
    },
    {
     "name": "stdout",
     "output_type": "stream",
     "text": [
      "[45, 42, 63, 63, 73, 75, 78, 75, 76, 62, 57, 49]\n"
     ]
    }
   ],
   "source": [
    "import matplotlib.pyplot as plt\n",
    "\n",
    "from matplotlib import font_manager, rc\n",
    "font_name = font_manager.FontProperties(fname=\"c:/Windows/Fonts/malgun.ttf\").get_name()\n",
    "rc('font', family=font_name)\n",
    "\n",
    "x=range(len(date2))\n",
    "\n",
    "plt.plot(humid, label = '습도',ls='--',c='r',marker='x')\n",
    "plt.xticks(x,date3)\n",
    "plt.title('2018년도 부산 월별 상대습도')\n",
    "plt.xlabel('달(월)')\n",
    "plt.ylabel('습도')\n",
    "plt.show()\n",
    "\n",
    "print(humid)"
   ]
  },
  {
   "cell_type": "code",
   "execution_count": null,
   "metadata": {},
   "outputs": [],
   "source": []
  }
 ],
 "metadata": {
  "kernelspec": {
   "display_name": "Python 3",
   "language": "python",
   "name": "python3"
  },
  "language_info": {
   "codemirror_mode": {
    "name": "ipython",
    "version": 3
   },
   "file_extension": ".py",
   "mimetype": "text/x-python",
   "name": "python",
   "nbconvert_exporter": "python",
   "pygments_lexer": "ipython3",
   "version": "3.7.3"
  }
 },
 "nbformat": 4,
 "nbformat_minor": 2
}
