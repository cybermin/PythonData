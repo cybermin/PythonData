{
 "cells": [
  {
   "cell_type": "markdown",
   "metadata": {},
   "source": [
    "#### 연도별 대구지역의 최고기온의 변화"
   ]
  },
  {
   "cell_type": "code",
   "execution_count": 57,
   "metadata": {},
   "outputs": [
    {
     "name": "stdout",
     "output_type": "stream",
     "text": [
      "['지점,일시,최고기온(°C)\\n', '대구,1997,36.6\\n', '대구,1998,35.3\\n', '대구,1999,35.5\\n', '대구,2000,35\\n', '대구,2001,35.8\\n', '대구,2002,35.4\\n', '대구,2003,34.7\\n', '대구,2004,36.9\\n', '대구,2005,36.2\\n', '대구,2006,37.2\\n', '대구,2007,36.4\\n', '대구,2008,36.2\\n', '대구,2009,35.3\\n', '대구,2010,36.5\\n', '대구,2011,35.5\\n', '대구,2012,37.2\\n', '대구,2013,37.9\\n', '대구,2014,37.5\\n', '대구,2015,38.3\\n', '대구,2016,38.1\\n', '대구,2017,38.4\\n', '대구,2018,39.2\\n']\n"
     ]
    }
   ],
   "source": [
    "f = open('./대구.csv','r')\n",
    "data = f.readlines()\n",
    "print(data)"
   ]
  },
  {
   "cell_type": "code",
   "execution_count": 58,
   "metadata": {},
   "outputs": [],
   "source": [
    "x = []\n",
    "y = []\n",
    "\n",
    "for item in data :\n",
    "    item = item.replace('\\n','')\n",
    "    line = item.split(',')\n",
    "    \n",
    "    x.append(line[1])\n",
    "    y.append(line[2])\n",
    "\n",
    "del x[0]\n",
    "del y[0]"
   ]
  },
  {
   "cell_type": "code",
   "execution_count": 69,
   "metadata": {
    "collapsed": true
   },
   "outputs": [
    {
     "data": {
      "text/plain": [
       "[36.6,\n",
       " 35.3,\n",
       " 35.5,\n",
       " 35.0,\n",
       " 35.8,\n",
       " 35.4,\n",
       " 34.7,\n",
       " 36.9,\n",
       " 36.2,\n",
       " 37.2,\n",
       " 36.4,\n",
       " 36.2,\n",
       " 35.3,\n",
       " 36.5,\n",
       " 35.5,\n",
       " 37.2,\n",
       " 37.9,\n",
       " 37.5,\n",
       " 38.3,\n",
       " 38.1,\n",
       " 38.4,\n",
       " 39.2]"
      ]
     },
     "execution_count": 69,
     "metadata": {},
     "output_type": "execute_result"
    }
   ],
   "source": [
    "y = [float(i) for i in y]\n",
    "y"
   ]
  },
  {
   "cell_type": "code",
   "execution_count": 60,
   "metadata": {},
   "outputs": [],
   "source": [
    "import matplotlib.pyplot as plt"
   ]
  },
  {
   "cell_type": "code",
   "execution_count": 70,
   "metadata": {},
   "outputs": [
    {
     "data": {
      "image/png": "[encoded data removed]",
      "text/plain": [
       "<Figure size 432x288 with 1 Axes>"
      ]
     },
     "metadata": {
      "needs_background": "light"
     },
     "output_type": "display_data"
    }
   ],
   "source": [
    "from matplotlib import font_manager, rc\n",
    "font_name = font_manager.FontProperties(fname=\"c:/Windows/Fonts/malgun.ttf\").get_name()\n",
    "rc('font', family=font_name)\n",
    "\n",
    "plt.plot(x,y, label='y', c='r',lw=3)\n",
    "plt.xticks(rotation=90)\n",
    "plt.xlabel('연도')\n",
    "plt.ylabel('최고기온')\n",
    "plt.title('연도별 최고기온', size=20)\n",
    "plt.show()"
   ]
  }
 ],
 "metadata": {
  "kernelspec": {
   "display_name": "Python 3",
   "language": "python",
   "name": "python3"
  },
  "language_info": {
   "codemirror_mode": {
    "name": "ipython",
    "version": 3
   },
   "file_extension": ".py",
   "mimetype": "text/x-python",
   "name": "python",
   "nbconvert_exporter": "python",
   "pygments_lexer": "ipython3",
   "version": "3.7.3"
  }
 },
 "nbformat": 4,
 "nbformat_minor": 2
}
