{
 "cells": [
  {
   "cell_type": "markdown",
   "metadata": {},
   "source": [
    "### 통계학과 201811509"
   ]
  },
  {
   "cell_type": "markdown",
   "metadata": {},
   "source": [
    "#### 부산의 평균기온 분석"
   ]
  },
  {
   "cell_type": "code",
   "execution_count": 39,
   "metadata": {},
   "outputs": [
    {
     "name": "stdout",
     "output_type": "stream",
     "text": [
      "['지점,일시,평균기온(°C)\\n', '159,Jul-18,26.7\\n', '159,Aug-18,27.9\\n', '159,Sep-18,21.9\\n', '159,Oct-18,16.4\\n', '159,Nov-18,12.4\\n', '159,Dec-18,5.7\\n', '159,Jan-19,4.5\\n', '159,Feb-19,6.6\\n', '159,Mar-19,10.5\\n', '159,Apr-19,13.4\\n', '159,May-19,19.3\\n', '159,Jun-19,21.1\\n']\n"
     ]
    }
   ],
   "source": [
    "f=open('./PythonData-master/PythonData-master/부산의 평균기온.csv','r')\n",
    "data=f.readlines()\n",
    "f.close()\n",
    "\n",
    "print(data)"
   ]
  },
  {
   "cell_type": "code",
   "execution_count": 40,
   "metadata": {},
   "outputs": [
    {
     "data": {
      "text/plain": [
       "list"
      ]
     },
     "execution_count": 40,
     "metadata": {},
     "output_type": "execute_result"
    }
   ],
   "source": [
    "type(data)"
   ]
  },
  {
   "cell_type": "code",
   "execution_count": 41,
   "metadata": {},
   "outputs": [
    {
     "name": "stdout",
     "output_type": "stream",
     "text": [
      "['지점,일시,평균기온(°C)\\n', '159,Jul-18,26.7\\n', '159,Aug-18,27.9\\n', '159,Sep-18,21.9\\n', '159,Oct-18,16.4\\n', '159,Nov-18,12.4\\n', '159,Dec-18,5.7\\n', '159,Jan-19,4.5\\n', '159,Feb-19,6.6\\n', '159,Mar-19,10.5\\n', '159,Apr-19,13.4\\n', '159,May-19,19.3\\n']\n"
     ]
    }
   ],
   "source": [
    "data.pop()\n",
    "print(data)"
   ]
  },
  {
   "cell_type": "code",
   "execution_count": 43,
   "metadata": {},
   "outputs": [
    {
     "name": "stdout",
     "output_type": "stream",
     "text": [
      "['Jul-18', 'Aug-18', 'Sep-18', 'Oct-18', 'Nov-18', 'Dec-18', 'Jan-19', 'Feb-19', 'Mar-19', 'Apr-19', 'May-19']\n",
      "[26.7, 27.9, 21.9, 16.4, 12.4, 5.7, 4.5, 6.6, 10.5, 13.4, 19.3]\n"
     ]
    }
   ],
   "source": [
    "day=[]\n",
    "tem=[]\n",
    "\n",
    "\n",
    "\n",
    "for line in data :\n",
    "    if line[:2]=='지점' : continue\n",
    "    line=line.replace('\\n','')      #문자열에서만 replace가능\n",
    "    item=line.split(',')\n",
    "        \n",
    "    day.append(item[1])\n",
    "    tem.append(float(item[2]))\n",
    "\n",
    "print(day)\n",
    "print(tem)\n",
    "   "
   ]
  },
  {
   "cell_type": "code",
   "execution_count": 44,
   "metadata": {},
   "outputs": [
    {
     "name": "stdout",
     "output_type": "stream",
     "text": [
      "부산의 최고 기온 : 27.9\n"
     ]
    }
   ],
   "source": [
    "print('부산의 최고 기온 :',max(tem) )"
   ]
  },
  {
   "cell_type": "code",
   "execution_count": 45,
   "metadata": {},
   "outputs": [],
   "source": [
    "import matplotlib.pyplot as plt\n",
    "\n",
    "#한글 폰트 사용 \n",
    "from matplotlib import font_manager, rc \n",
    "font_name = font_manager.FontProperties(fname=\"c:/Windows/Fonts/malgun.ttf\").get_name() \n",
    "rc('font', family=font_name)"
   ]
  },
  {
   "cell_type": "code",
   "execution_count": 53,
   "metadata": {},
   "outputs": [
    {
     "data": {
      "image/png": "[encoded data removed]",
      "text/plain": [
       "<Figure size 432x288 with 1 Axes>"
      ]
     },
     "metadata": {},
     "output_type": "display_data"
    }
   ],
   "source": [
    "x=list(range(len(tem)))\n",
    "plt.plot(tem,label='부산의 평균기온',c='red',ls='--',marker='o')\n",
    "plt.xticks(x, day,rotation=90)\n",
    "plt.legend()\n",
    "\n",
    "\n",
    "plt.show()"
   ]
  },
  {
   "cell_type": "code",
   "execution_count": null,
   "metadata": {},
   "outputs": [],
   "source": []
  }
 ],
 "metadata": {
  "kernelspec": {
   "display_name": "Python 3",
   "language": "python",
   "name": "python3"
  },
  "language_info": {
   "codemirror_mode": {
    "name": "ipython",
    "version": 3
   },
   "file_extension": ".py",
   "mimetype": "text/x-python",
   "name": "python",
   "nbconvert_exporter": "python",
   "pygments_lexer": "ipython3",
   "version": "3.6.5"
  }
 },
 "nbformat": 4,
 "nbformat_minor": 2
}
