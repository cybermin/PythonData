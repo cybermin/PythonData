{
 "cells": [
  {
   "cell_type": "markdown",
   "metadata": {},
   "source": [
    "# 201611536 최성욱"
   ]
  },
  {
   "cell_type": "markdown",
   "metadata": {},
   "source": [
    "#### 연도별 여수시 온도변화"
   ]
  },
  {
   "cell_type": "code",
   "execution_count": 1,
   "metadata": {},
   "outputs": [
    {
     "name": "stdout",
     "output_type": "stream",
     "text": [
      "['지점,일시,평균기온(°C)\\n', '168,2011,14\\n', '168,2012,14\\n', '168,2013,14.7\\n', '168,2014,14.7\\n', '168,2015,14.9\\n', '168,2016,15.3\\n', '168,2017,15\\n', '168,2018,14.9\\n']\n"
     ]
    }
   ],
   "source": [
    "f = open('../자료/20190724152137.csv')\n",
    "data = f.readlines()\n",
    "f.close()\n",
    "\n",
    "print(data)"
   ]
  },
  {
   "cell_type": "code",
   "execution_count": 8,
   "metadata": {},
   "outputs": [],
   "source": [
    "del data[0]"
   ]
  },
  {
   "cell_type": "code",
   "execution_count": 11,
   "metadata": {},
   "outputs": [
    {
     "name": "stdout",
     "output_type": "stream",
     "text": [
      "{'2011': 14.0, '2012': 14.0, '2013': 14.7, '2014': 14.7, '2015': 14.9, '2016': 15.3, '2017': 15.0, '2018': 14.9}\n"
     ]
    }
   ],
   "source": [
    "data_final = {}\n",
    "\n",
    "for item in data :\n",
    "    item = item.replace('\\n', '')\n",
    "    line = item.split(',')\n",
    "    data_final[line[1]] = float(line[2])\n",
    "    \n",
    "print(data_final)"
   ]
  },
  {
   "cell_type": "code",
   "execution_count": 27,
   "metadata": {},
   "outputs": [
    {
     "data": {
      "image/png": "[encoded data removed]",
      "text/plain": [
       "<Figure size 432x288 with 1 Axes>"
      ]
     },
     "metadata": {
      "needs_background": "light"
     },
     "output_type": "display_data"
    }
   ],
   "source": [
    "import matplotlib.pyplot as plt\n",
    "from matplotlib import font_manager, rc\n",
    "font_name = font_manager.FontProperties(fname=\"c:/Windows/Fonts/malgun.ttf\").get_name()\n",
    "rc('font', family=font_name)\n",
    "\n",
    "x = list(range(len(y)))\n",
    "x2 = data_final.keys()\n",
    "y = data_final.values()\n",
    "\n",
    "plt.xticks(x, x2)\n",
    "plt.ylim([12, 18])\n",
    "plt.title('여수의 연도별 평균기온', fontsize = 20)\n",
    "plt.xlabel('연도')\n",
    "plt.ylabel('평균기온')\n",
    "\n",
    "plt.plot(y, 'bo-')\n",
    "plt.show()"
   ]
  },
  {
   "cell_type": "code",
   "execution_count": null,
   "metadata": {},
   "outputs": [],
   "source": []
  }
 ],
 "metadata": {
  "kernelspec": {
   "display_name": "Python 3",
   "language": "python",
   "name": "python3"
  },
  "language_info": {
   "codemirror_mode": {
    "name": "ipython",
    "version": 3
   },
   "file_extension": ".py",
   "mimetype": "text/x-python",
   "name": "python",
   "nbconvert_exporter": "python",
   "pygments_lexer": "ipython3",
   "version": "3.7.3"
  }
 },
 "nbformat": 4,
 "nbformat_minor": 2
}
