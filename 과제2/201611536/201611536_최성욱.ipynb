{
 "cells": [
  {
   "cell_type": "code",
   "execution_count": 1,
   "metadata": {},
   "outputs": [],
   "source": [
    "import pandas as pd\n",
    "import matplotlib.pyplot as plt\n",
    "from matplotlib import font_manager, rc\n",
    "font_name = font_manager.FontProperties(fname=\"c:/Windows/Fonts/malgun.ttf\").get_name()\n",
    "rc('font', family=font_name)"
   ]
  },
  {
   "cell_type": "code",
   "execution_count": 76,
   "metadata": {},
   "outputs": [],
   "source": [
    "data = pd.read_csv('../자료/전라남도_여수시_공영자전거일별대여건수_20180820.csv', engine = 'python')"
   ]
  },
  {
   "cell_type": "code",
   "execution_count": 77,
   "metadata": {},
   "outputs": [],
   "source": [
    "data1 = pd.read_csv('../자료/전라남도_여수시_공영자전거일별대여시간_20180820.csv', engine = 'python')"
   ]
  },
  {
   "cell_type": "code",
   "execution_count": 78,
   "metadata": {},
   "outputs": [],
   "source": [
    "df = pd.merge(data, data1, on = '대여일', how = 'inner')"
   ]
  },
  {
   "cell_type": "code",
   "execution_count": 79,
   "metadata": {},
   "outputs": [
    {
     "data": {
      "text/html": [
       "<div>\n",
       "<style scoped>\n",
       "    .dataframe tbody tr th:only-of-type {\n",
       "        vertical-align: middle;\n",
       "    }\n",
       "\n",
       "    .dataframe tbody tr th {\n",
       "        vertical-align: top;\n",
       "    }\n",
       "\n",
       "    .dataframe thead th {\n",
       "        text-align: right;\n",
       "    }\n",
       "</style>\n",
       "<table border=\"1\" class=\"dataframe\">\n",
       "  <thead>\n",
       "    <tr style=\"text-align: right;\">\n",
       "      <th></th>\n",
       "      <th>대여일</th>\n",
       "      <th>총대여시간</th>\n",
       "      <th>전체대여건</th>\n",
       "    </tr>\n",
       "  </thead>\n",
       "  <tbody>\n",
       "    <tr>\n",
       "      <th>0</th>\n",
       "      <td>2018-08-17</td>\n",
       "      <td>66시간 8분</td>\n",
       "      <td>149</td>\n",
       "    </tr>\n",
       "    <tr>\n",
       "      <th>1</th>\n",
       "      <td>2018-08-16</td>\n",
       "      <td>220시간 40분</td>\n",
       "      <td>454</td>\n",
       "    </tr>\n",
       "    <tr>\n",
       "      <th>2</th>\n",
       "      <td>2018-08-15</td>\n",
       "      <td>190시간 46분</td>\n",
       "      <td>320</td>\n",
       "    </tr>\n",
       "    <tr>\n",
       "      <th>3</th>\n",
       "      <td>2018-08-14</td>\n",
       "      <td>228시간 28분</td>\n",
       "      <td>400</td>\n",
       "    </tr>\n",
       "    <tr>\n",
       "      <th>4</th>\n",
       "      <td>2018-08-13</td>\n",
       "      <td>198시간 30분</td>\n",
       "      <td>350</td>\n",
       "    </tr>\n",
       "  </tbody>\n",
       "</table>\n",
       "</div>"
      ],
      "text/plain": [
       "          대여일      총대여시간 전체대여건\n",
       "0  2018-08-17    66시간 8분   149\n",
       "1  2018-08-16  220시간 40분   454\n",
       "2  2018-08-15  190시간 46분   320\n",
       "3  2018-08-14  228시간 28분   400\n",
       "4  2018-08-13  198시간 30분   350"
      ]
     },
     "execution_count": 79,
     "metadata": {},
     "output_type": "execute_result"
    }
   ],
   "source": [
    "df.head()"
   ]
  },
  {
   "cell_type": "code",
   "execution_count": 80,
   "metadata": {},
   "outputs": [],
   "source": [
    "df['대여일'] = pd.to_datetime(df['대여일'])"
   ]
  },
  {
   "cell_type": "code",
   "execution_count": 81,
   "metadata": {},
   "outputs": [],
   "source": [
    "df['요일'] = df['대여일'].dt.weekday_name"
   ]
  },
  {
   "cell_type": "code",
   "execution_count": 82,
   "metadata": {},
   "outputs": [
    {
     "data": {
      "text/html": [
       "<div>\n",
       "<style scoped>\n",
       "    .dataframe tbody tr th:only-of-type {\n",
       "        vertical-align: middle;\n",
       "    }\n",
       "\n",
       "    .dataframe tbody tr th {\n",
       "        vertical-align: top;\n",
       "    }\n",
       "\n",
       "    .dataframe thead th {\n",
       "        text-align: right;\n",
       "    }\n",
       "</style>\n",
       "<table border=\"1\" class=\"dataframe\">\n",
       "  <thead>\n",
       "    <tr style=\"text-align: right;\">\n",
       "      <th></th>\n",
       "      <th>대여일</th>\n",
       "      <th>총대여시간</th>\n",
       "      <th>전체대여건</th>\n",
       "      <th>요일</th>\n",
       "    </tr>\n",
       "  </thead>\n",
       "  <tbody>\n",
       "    <tr>\n",
       "      <th>0</th>\n",
       "      <td>2018-08-17</td>\n",
       "      <td>66시간 8분</td>\n",
       "      <td>149</td>\n",
       "      <td>Friday</td>\n",
       "    </tr>\n",
       "    <tr>\n",
       "      <th>1</th>\n",
       "      <td>2018-08-16</td>\n",
       "      <td>220시간 40분</td>\n",
       "      <td>454</td>\n",
       "      <td>Thursday</td>\n",
       "    </tr>\n",
       "    <tr>\n",
       "      <th>2</th>\n",
       "      <td>2018-08-15</td>\n",
       "      <td>190시간 46분</td>\n",
       "      <td>320</td>\n",
       "      <td>Wednesday</td>\n",
       "    </tr>\n",
       "    <tr>\n",
       "      <th>3</th>\n",
       "      <td>2018-08-14</td>\n",
       "      <td>228시간 28분</td>\n",
       "      <td>400</td>\n",
       "      <td>Tuesday</td>\n",
       "    </tr>\n",
       "    <tr>\n",
       "      <th>4</th>\n",
       "      <td>2018-08-13</td>\n",
       "      <td>198시간 30분</td>\n",
       "      <td>350</td>\n",
       "      <td>Monday</td>\n",
       "    </tr>\n",
       "  </tbody>\n",
       "</table>\n",
       "</div>"
      ],
      "text/plain": [
       "         대여일      총대여시간 전체대여건         요일\n",
       "0 2018-08-17    66시간 8분   149     Friday\n",
       "1 2018-08-16  220시간 40분   454   Thursday\n",
       "2 2018-08-15  190시간 46분   320  Wednesday\n",
       "3 2018-08-14  228시간 28분   400    Tuesday\n",
       "4 2018-08-13  198시간 30분   350     Monday"
      ]
     },
     "execution_count": 82,
     "metadata": {},
     "output_type": "execute_result"
    }
   ],
   "source": [
    "df.head()"
   ]
  },
  {
   "cell_type": "code",
   "execution_count": 83,
   "metadata": {},
   "outputs": [
    {
     "name": "stdout",
     "output_type": "stream",
     "text": [
      "<class 'pandas.core.frame.DataFrame'>\n",
      "Int64Index: 958 entries, 0 to 957\n",
      "Data columns (total 4 columns):\n",
      "대여일      958 non-null datetime64[ns]\n",
      "총대여시간    958 non-null object\n",
      "전체대여건    958 non-null object\n",
      "요일       958 non-null object\n",
      "dtypes: datetime64[ns](1), object(3)\n",
      "memory usage: 37.4+ KB\n"
     ]
    }
   ],
   "source": [
    "df.info()"
   ]
  },
  {
   "cell_type": "code",
   "execution_count": 84,
   "metadata": {},
   "outputs": [],
   "source": [
    "tlist = []\n",
    "for idx in df.index :\n",
    "    str = df.loc[idx, '총대여시간']\n",
    "    str = str.replace('시간', '')\n",
    "    str = str.replace('분', '')\n",
    "    str2 = str.split(' ')\n",
    "    t = round((int(str2[0]) * 60 + int(str2[1]))/60,1)\n",
    "    tlist.append(t)\n",
    "\n",
    "ps = pd.Series(tlist)\n",
    "ps\n",
    "\n",
    "df['총시간'] = ps"
   ]
  },
  {
   "cell_type": "code",
   "execution_count": 85,
   "metadata": {},
   "outputs": [
    {
     "data": {
      "text/html": [
       "<div>\n",
       "<style scoped>\n",
       "    .dataframe tbody tr th:only-of-type {\n",
       "        vertical-align: middle;\n",
       "    }\n",
       "\n",
       "    .dataframe tbody tr th {\n",
       "        vertical-align: top;\n",
       "    }\n",
       "\n",
       "    .dataframe thead th {\n",
       "        text-align: right;\n",
       "    }\n",
       "</style>\n",
       "<table border=\"1\" class=\"dataframe\">\n",
       "  <thead>\n",
       "    <tr style=\"text-align: right;\">\n",
       "      <th></th>\n",
       "      <th>대여일</th>\n",
       "      <th>총대여시간</th>\n",
       "      <th>전체대여건</th>\n",
       "      <th>요일</th>\n",
       "      <th>총시간</th>\n",
       "    </tr>\n",
       "  </thead>\n",
       "  <tbody>\n",
       "    <tr>\n",
       "      <th>0</th>\n",
       "      <td>2018-08-17</td>\n",
       "      <td>66시간 8분</td>\n",
       "      <td>149</td>\n",
       "      <td>Friday</td>\n",
       "      <td>66.1</td>\n",
       "    </tr>\n",
       "    <tr>\n",
       "      <th>1</th>\n",
       "      <td>2018-08-16</td>\n",
       "      <td>220시간 40분</td>\n",
       "      <td>454</td>\n",
       "      <td>Thursday</td>\n",
       "      <td>220.7</td>\n",
       "    </tr>\n",
       "    <tr>\n",
       "      <th>2</th>\n",
       "      <td>2018-08-15</td>\n",
       "      <td>190시간 46분</td>\n",
       "      <td>320</td>\n",
       "      <td>Wednesday</td>\n",
       "      <td>190.8</td>\n",
       "    </tr>\n",
       "    <tr>\n",
       "      <th>3</th>\n",
       "      <td>2018-08-14</td>\n",
       "      <td>228시간 28분</td>\n",
       "      <td>400</td>\n",
       "      <td>Tuesday</td>\n",
       "      <td>228.5</td>\n",
       "    </tr>\n",
       "    <tr>\n",
       "      <th>4</th>\n",
       "      <td>2018-08-13</td>\n",
       "      <td>198시간 30분</td>\n",
       "      <td>350</td>\n",
       "      <td>Monday</td>\n",
       "      <td>198.5</td>\n",
       "    </tr>\n",
       "  </tbody>\n",
       "</table>\n",
       "</div>"
      ],
      "text/plain": [
       "         대여일      총대여시간 전체대여건         요일    총시간\n",
       "0 2018-08-17    66시간 8분   149     Friday   66.1\n",
       "1 2018-08-16  220시간 40분   454   Thursday  220.7\n",
       "2 2018-08-15  190시간 46분   320  Wednesday  190.8\n",
       "3 2018-08-14  228시간 28분   400    Tuesday  228.5\n",
       "4 2018-08-13  198시간 30분   350     Monday  198.5"
      ]
     },
     "execution_count": 85,
     "metadata": {},
     "output_type": "execute_result"
    }
   ],
   "source": [
    "df.head()"
   ]
  },
  {
   "cell_type": "code",
   "execution_count": 92,
   "metadata": {},
   "outputs": [],
   "source": [
    "tlist = []\n",
    "for idx in df.index :\n",
    "    str = df.loc[idx, '전체대여건']\n",
    "    str = str.replace(',','')\n",
    "    tlist.append(str)\n",
    "    \n",
    "psd = pd.Series(tlist)\n",
    "psd\n",
    "\n",
    "df['총대여'] = psd"
   ]
  },
  {
   "cell_type": "code",
   "execution_count": 111,
   "metadata": {},
   "outputs": [
    {
     "data": {
      "text/html": [
       "<div>\n",
       "<style scoped>\n",
       "    .dataframe tbody tr th:only-of-type {\n",
       "        vertical-align: middle;\n",
       "    }\n",
       "\n",
       "    .dataframe tbody tr th {\n",
       "        vertical-align: top;\n",
       "    }\n",
       "\n",
       "    .dataframe thead th {\n",
       "        text-align: right;\n",
       "    }\n",
       "</style>\n",
       "<table border=\"1\" class=\"dataframe\">\n",
       "  <thead>\n",
       "    <tr style=\"text-align: right;\">\n",
       "      <th></th>\n",
       "      <th>대여일</th>\n",
       "      <th>총대여시간</th>\n",
       "      <th>전체대여건</th>\n",
       "      <th>요일</th>\n",
       "      <th>총시간</th>\n",
       "      <th>총대여</th>\n",
       "    </tr>\n",
       "  </thead>\n",
       "  <tbody>\n",
       "    <tr>\n",
       "      <th>0</th>\n",
       "      <td>2018-08-17</td>\n",
       "      <td>66시간 8분</td>\n",
       "      <td>149</td>\n",
       "      <td>Friday</td>\n",
       "      <td>66.1</td>\n",
       "      <td>149</td>\n",
       "    </tr>\n",
       "    <tr>\n",
       "      <th>1</th>\n",
       "      <td>2018-08-16</td>\n",
       "      <td>220시간 40분</td>\n",
       "      <td>454</td>\n",
       "      <td>Thursday</td>\n",
       "      <td>220.7</td>\n",
       "      <td>454</td>\n",
       "    </tr>\n",
       "    <tr>\n",
       "      <th>2</th>\n",
       "      <td>2018-08-15</td>\n",
       "      <td>190시간 46분</td>\n",
       "      <td>320</td>\n",
       "      <td>Wednesday</td>\n",
       "      <td>190.8</td>\n",
       "      <td>320</td>\n",
       "    </tr>\n",
       "    <tr>\n",
       "      <th>3</th>\n",
       "      <td>2018-08-14</td>\n",
       "      <td>228시간 28분</td>\n",
       "      <td>400</td>\n",
       "      <td>Tuesday</td>\n",
       "      <td>228.5</td>\n",
       "      <td>400</td>\n",
       "    </tr>\n",
       "    <tr>\n",
       "      <th>4</th>\n",
       "      <td>2018-08-13</td>\n",
       "      <td>198시간 30분</td>\n",
       "      <td>350</td>\n",
       "      <td>Monday</td>\n",
       "      <td>198.5</td>\n",
       "      <td>350</td>\n",
       "    </tr>\n",
       "  </tbody>\n",
       "</table>\n",
       "</div>"
      ],
      "text/plain": [
       "         대여일      총대여시간 전체대여건         요일    총시간  총대여\n",
       "0 2018-08-17    66시간 8분   149     Friday   66.1  149\n",
       "1 2018-08-16  220시간 40분   454   Thursday  220.7  454\n",
       "2 2018-08-15  190시간 46분   320  Wednesday  190.8  320\n",
       "3 2018-08-14  228시간 28분   400    Tuesday  228.5  400\n",
       "4 2018-08-13  198시간 30분   350     Monday  198.5  350"
      ]
     },
     "execution_count": 111,
     "metadata": {},
     "output_type": "execute_result"
    }
   ],
   "source": [
    "df.head()"
   ]
  },
  {
   "cell_type": "code",
   "execution_count": 112,
   "metadata": {},
   "outputs": [],
   "source": [
    "df['총대여'] = pd.to_numeric(df['총대여'])"
   ]
  },
  {
   "cell_type": "code",
   "execution_count": 113,
   "metadata": {},
   "outputs": [
    {
     "data": {
      "text/html": [
       "<div>\n",
       "<style scoped>\n",
       "    .dataframe tbody tr th:only-of-type {\n",
       "        vertical-align: middle;\n",
       "    }\n",
       "\n",
       "    .dataframe tbody tr th {\n",
       "        vertical-align: top;\n",
       "    }\n",
       "\n",
       "    .dataframe thead th {\n",
       "        text-align: right;\n",
       "    }\n",
       "</style>\n",
       "<table border=\"1\" class=\"dataframe\">\n",
       "  <thead>\n",
       "    <tr style=\"text-align: right;\">\n",
       "      <th></th>\n",
       "      <th>총시간</th>\n",
       "      <th>총대여</th>\n",
       "    </tr>\n",
       "    <tr>\n",
       "      <th>요일</th>\n",
       "      <th></th>\n",
       "      <th></th>\n",
       "    </tr>\n",
       "  </thead>\n",
       "  <tbody>\n",
       "    <tr>\n",
       "      <th>Friday</th>\n",
       "      <td>118.523913</td>\n",
       "      <td>222.043478</td>\n",
       "    </tr>\n",
       "    <tr>\n",
       "      <th>Monday</th>\n",
       "      <td>112.179562</td>\n",
       "      <td>198.240876</td>\n",
       "    </tr>\n",
       "    <tr>\n",
       "      <th>Saturday</th>\n",
       "      <td>201.858394</td>\n",
       "      <td>362.613139</td>\n",
       "    </tr>\n",
       "    <tr>\n",
       "      <th>Sunday</th>\n",
       "      <td>174.012409</td>\n",
       "      <td>314.773723</td>\n",
       "    </tr>\n",
       "    <tr>\n",
       "      <th>Thursday</th>\n",
       "      <td>118.887591</td>\n",
       "      <td>209.036496</td>\n",
       "    </tr>\n",
       "    <tr>\n",
       "      <th>Tuesday</th>\n",
       "      <td>117.431618</td>\n",
       "      <td>211.985294</td>\n",
       "    </tr>\n",
       "    <tr>\n",
       "      <th>Wednesday</th>\n",
       "      <td>118.488235</td>\n",
       "      <td>204.235294</td>\n",
       "    </tr>\n",
       "  </tbody>\n",
       "</table>\n",
       "</div>"
      ],
      "text/plain": [
       "                  총시간         총대여\n",
       "요일                               \n",
       "Friday     118.523913  222.043478\n",
       "Monday     112.179562  198.240876\n",
       "Saturday   201.858394  362.613139\n",
       "Sunday     174.012409  314.773723\n",
       "Thursday   118.887591  209.036496\n",
       "Tuesday    117.431618  211.985294\n",
       "Wednesday  118.488235  204.235294"
      ]
     },
     "execution_count": 113,
     "metadata": {},
     "output_type": "execute_result"
    }
   ],
   "source": [
    "df1 = df.groupby(['요일'])['총시간','총대여'].mean()\n",
    "df1"
   ]
  },
  {
   "cell_type": "code",
   "execution_count": 119,
   "metadata": {},
   "outputs": [
    {
     "data": {
      "text/plain": [
       "<matplotlib.axes._subplots.AxesSubplot at 0x2779d179ef0>"
      ]
     },
     "execution_count": 119,
     "metadata": {},
     "output_type": "execute_result"
    },
    {
     "data": {
      "image/png": "[encoded data removed]",
      "text/plain": [
       "<Figure size 432x288 with 1 Axes>"
      ]
     },
     "metadata": {
      "needs_background": "light"
     },
     "output_type": "display_data"
    }
   ],
   "source": [
    "df1.plot(kind = 'bar')\n"
   ]
  },
  {
   "cell_type": "code",
   "execution_count": null,
   "metadata": {},
   "outputs": [],
   "source": []
  },
  {
   "cell_type": "code",
   "execution_count": null,
   "metadata": {},
   "outputs": [],
   "source": []
  },
  {
   "cell_type": "code",
   "execution_count": null,
   "metadata": {},
   "outputs": [],
   "source": []
  },
  {
   "cell_type": "code",
   "execution_count": null,
   "metadata": {},
   "outputs": [],
   "source": []
  }
 ],
 "metadata": {
  "kernelspec": {
   "display_name": "Python 3",
   "language": "python",
   "name": "python3"
  },
  "language_info": {
   "codemirror_mode": {
    "name": "ipython",
    "version": 3
   },
   "file_extension": ".py",
   "mimetype": "text/x-python",
   "name": "python",
   "nbconvert_exporter": "python",
   "pygments_lexer": "ipython3",
   "version": "3.7.3"
  }
 },
 "nbformat": 4,
 "nbformat_minor": 2
}
