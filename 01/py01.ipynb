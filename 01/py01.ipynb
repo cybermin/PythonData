{
 "cells": [
  {
   "cell_type": "markdown",
   "metadata": {},
   "source": [
    "# 파이썬 표준입출력 "
   ]
  },
  {
   "cell_type": "code",
   "execution_count": 6,
   "metadata": {},
   "outputs": [
    {
     "name": "stdout",
     "output_type": "stream",
     "text": [
      "본인 이름 안녕하세요.\n"
     ]
    }
   ],
   "source": [
    "#표준출력\n",
    "print('본인 이름 안녕하세요.')"
   ]
  },
  {
   "cell_type": "code",
   "execution_count": 5,
   "metadata": {},
   "outputs": [
    {
     "name": "stdout",
     "output_type": "stream",
     "text": [
      "안녕하세요\n",
      "안녕,하세요\n"
     ]
    }
   ],
   "source": [
    "print('안녕', end='')\n",
    "print('하세요')\n",
    "\n",
    "print('안녕', end=',')\n",
    "print('하세요')"
   ]
  },
  {
   "cell_type": "code",
   "execution_count": 9,
   "metadata": {},
   "outputs": [
    {
     "name": "stdout",
     "output_type": "stream",
     "text": [
      "10\n",
      "10\n"
     ]
    }
   ],
   "source": [
    "#표준입력\n",
    "x = input()\n",
    "print(x)"
   ]
  },
  {
   "cell_type": "code",
   "execution_count": 12,
   "metadata": {},
   "outputs": [
    {
     "name": "stdout",
     "output_type": "stream",
     "text": [
      "숫자를 입력하세요.100\n",
      "입력된 수는  100 입니다.\n"
     ]
    }
   ],
   "source": [
    "x = input('숫자를 입력하세요.')\n",
    "print('입력된 수는 ', x, '입니다.')"
   ]
  },
  {
   "cell_type": "code",
   "execution_count": 14,
   "metadata": {},
   "outputs": [
    {
     "name": "stdout",
     "output_type": "stream",
     "text": [
      "숫자를 입력하세요.10\n",
      "숫자를 입력하세요.20\n",
      "10  +  20  =  30\n",
      "10  -  20  =  -10\n",
      "10  x  20  =  200\n",
      "10  /  20  =  0.5\n"
     ]
    }
   ],
   "source": [
    "#문자를 숫자로 변환 => int() , float()\n",
    "x = int(input('숫자를 입력하세요.'))\n",
    "y = int(input('숫자를 입력하세요.'))\n",
    "\n",
    "print(x , ' + ', y , ' = ', x+y)\n",
    "print(x , ' - ', y , ' = ', x-y)\n",
    "print(x , ' x ', y , ' = ', x*y)\n",
    "print(x , ' / ', y , ' = ', x/y)\n"
   ]
  },
  {
   "cell_type": "code",
   "execution_count": 16,
   "metadata": {},
   "outputs": [
    {
     "name": "stdout",
     "output_type": "stream",
     "text": [
      "10 / 20 = 0.5\n"
     ]
    }
   ],
   "source": [
    "#연결연산자 (+)\n",
    "#숫자를 문자로 변환 => str()\n",
    "\n",
    "print(str(x) + ' / ' + str(y) + ' = ' + str(x/y))"
   ]
  },
  {
   "cell_type": "code",
   "execution_count": 18,
   "metadata": {},
   "outputs": [
    {
     "data": {
      "text/plain": [
       "int"
      ]
     },
     "execution_count": 18,
     "metadata": {},
     "output_type": "execute_result"
    }
   ],
   "source": [
    "#데이터 타입확인 \n",
    "type(x)"
   ]
  },
  {
   "cell_type": "code",
   "execution_count": 19,
   "metadata": {},
   "outputs": [
    {
     "data": {
      "text/plain": [
       "float"
      ]
     },
     "execution_count": 19,
     "metadata": {},
     "output_type": "execute_result"
    }
   ],
   "source": [
    "type(x/y)"
   ]
  },
  {
   "cell_type": "code",
   "execution_count": 20,
   "metadata": {},
   "outputs": [
    {
     "name": "stdout",
     "output_type": "stream",
     "text": [
      "[1, 2.0, '3']\n"
     ]
    }
   ],
   "source": [
    "#리스트 \n",
    "lst = [1,2.0,'3']\n",
    "print(lst)"
   ]
  },
  {
   "cell_type": "code",
   "execution_count": 21,
   "metadata": {},
   "outputs": [
    {
     "name": "stdout",
     "output_type": "stream",
     "text": [
      "(1, 2.0, '3')\n"
     ]
    }
   ],
   "source": [
    "#튜플\n",
    "t = (1,2.0, '3')\n",
    "print(t)"
   ]
  },
  {
   "cell_type": "code",
   "execution_count": 22,
   "metadata": {},
   "outputs": [
    {
     "name": "stdout",
     "output_type": "stream",
     "text": [
      "{'a': 1, 'b': 2}\n"
     ]
    }
   ],
   "source": [
    "#딕션너리\n",
    "dic = {'a':1, 'b':2}\n",
    "print(dic)"
   ]
  },
  {
   "cell_type": "code",
   "execution_count": null,
   "metadata": {},
   "outputs": [],
   "source": []
  }
 ],
 "metadata": {
  "kernelspec": {
   "display_name": "Python 3",
   "language": "python",
   "name": "python3"
  },
  "language_info": {
   "codemirror_mode": {
    "name": "ipython",
    "version": 3
   },
   "file_extension": ".py",
   "mimetype": "text/x-python",
   "name": "python",
   "nbconvert_exporter": "python",
   "pygments_lexer": "ipython3",
   "version": "3.7.3"
  }
 },
 "nbformat": 4,
 "nbformat_minor": 2
}
